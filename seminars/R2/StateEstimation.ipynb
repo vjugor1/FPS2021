{
 "cells": [
  {
   "cell_type": "code",
   "execution_count": null,
   "metadata": {},
   "outputs": [],
   "source": [
    "begin\n",
    "    using Pkg\n",
    "    PkgList = [\"CSV\",           #read .csv\n",
    "                \"DataFrames\",   #nice framework for tables -- ~ pandas in Python\n",
    "                \"Ipopt\",        #solver for optimization problem\n",
    "                \"JuMP\",         #framework for optimization problem formulation -- ~ Pyomo in Python\n",
    "                \"Distributions\" # for Chi^2\n",
    "        ]       \n",
    "    for package in PkgList\n",
    "        if Base.find_package(package) == nothing\n",
    "            Pkg.add(package)\n",
    "        end\n",
    "    end\n",
    "    using CSV, DataFrames, Ipopt, JuMP, Distributions, Plots, LaTeXStrings\n",
    "    include(\"src/utils.jl\")\n",
    "end"
   ]
  },
  {
   "cell_type": "markdown",
   "metadata": {},
   "source": [
    "# Introduction:\n",
    "*  **Topics covered:** State Estimation, $\\chi^2$ test, optimization with JuMP, work with data (DataFrames)\n",
    "* **Important notice** the results of this computer lab can be used in future HWs"
   ]
  },
  {
   "cell_type": "markdown",
   "metadata": {},
   "source": [
    "# State Estimation\n",
    "\n",
    "Example 4.1 from the book *Electric Energy Systems Analysis and Operation, A. Gomez-Exposito, A. Conejo, and C Canizares, CRS Press, 2009*\n",
    "\n",
    "![](Network.PNG)\n"
   ]
  },
  {
   "cell_type": "markdown",
   "metadata": {},
   "source": [
    "## A quick recap \n",
    "> 1. One should minimize, keeping in mind the Power Flow Equations between $V, \\delta, P, Q$\n",
    "$$\n",
    "J(V,  P, Q, Pl, Ql) = \\sum_{k \\in \\texttt{Buses}} w^V_k (V_k - \\tilde{V_k})^2  + \\sum_{k \\in \\texttt{Buses}} w^P_k (P_k - \\tilde{P_k})^2 + \\sum_{k \\in \\texttt{Buses}} w^Q_k (Q_k - \\tilde{Q_k})^2 + \\sum_{(k,l) \\in \\texttt{Lines}} w^{P}_{kl} (Pl_{kl} - \\tilde{P_{kl}})^2 + \\sum_{(k,l) \\in \\texttt{Lines}} w^{Ql}_{kl} (Q_{kl} - \\tilde{Q_{kl}})^2,\n",
    "$$\n",
    "where $w^V, w^{P}, w^{Q}, w^{Pl}, w^{Ql}$ are the standard deviations of the measurements\n",
    "> 2. To get the most likely state ($V,  P, Q, Pl, Ql$) of the system\n",
    "> 3. The value of $J(V^*,  P^*, Q^*, Pl^*, Ql^*)$ can be further used to determine if the measurements are bad using $\\chi^2$ test"
   ]
  },
  {
   "cell_type": "markdown",
   "metadata": {},
   "source": [
    "# Problem data"
   ]
  },
  {
   "cell_type": "markdown",
   "metadata": {},
   "source": [
    "## Branch data"
   ]
  },
  {
   "cell_type": "code",
   "execution_count": null,
   "metadata": {},
   "outputs": [],
   "source": [
    "# Reading branch data \n",
    "begin\n",
    "    \n",
    "end\n"
   ]
  },
  {
   "cell_type": "markdown",
   "metadata": {},
   "source": [
    "## Measurement data"
   ]
  },
  {
   "cell_type": "code",
   "execution_count": null,
   "metadata": {},
   "outputs": [],
   "source": [
    "begin\n",
    "    \n",
    "end"
   ]
  },
  {
   "cell_type": "markdown",
   "metadata": {},
   "source": [
    "## Divide data by types\n",
    "\n",
    "We will to that for further convenience"
   ]
  },
  {
   "cell_type": "code",
   "execution_count": null,
   "metadata": {},
   "outputs": [],
   "source": [
    "# Active power flow in lines\n",
    "\n",
    "\n",
    "# Active power at buses\n",
    "\n",
    "# Reactive power flow in lines\n",
    "\n",
    "#Reactive power at buses\n",
    "\n",
    "# Voltage at buses\n"
   ]
  },
  {
   "cell_type": "code",
   "execution_count": null,
   "metadata": {},
   "outputs": [],
   "source": [
    "#give it a try\n"
   ]
  },
  {
   "cell_type": "code",
   "execution_count": null,
   "metadata": {},
   "outputs": [],
   "source": [
    "#how can iterate over measured values from this table?"
   ]
  },
  {
   "cell_type": "markdown",
   "metadata": {},
   "source": [
    "# State Estimation Procedure\n",
    "Since the disperancy between data and out model is (in general) represented as follows,\n",
    "$$\n",
    "J(x) = \\sum_{k=1}^n w_k (h_k(x) - y_k)^2,\n",
    "$$\n",
    "we need to specify $h_k$. In our case these are Power Flow Equations"
   ]
  },
  {
   "cell_type": "markdown",
   "metadata": {},
   "source": [
    "## Power Flow equations\n",
    "$$\n",
    "    \\begin{aligned}\n",
    "        P_i &= V_i \\sum_{j=1}^n V_j \\left( G_{ij} \\cos(\\theta_{ij}) + B_{ij} \\sin(\\theta_{ij}) \\right) \\\\\n",
    "        Q_i &= V_i \\sum_{j=1}^n V_j \\left( G_{ij} \\sin(\\theta_{ij}) - B_{ij} \\cos(\\theta_{ij}) \\right)\n",
    "    \\end{aligned}\n",
    "$$\n",
    "## Line Flows\n",
    "$$\n",
    "    \\begin{aligned}\n",
    "        P_{ij} &= V_i V_j \\left( G_{ij} \\cos(\\theta_{ij}) + B_{ij} \\sin(\\theta_{ij}) \\right) - G_{ij} V^2_i \\\\\n",
    "        Q_{ij} &= V_i V_j \\left( G_{ij} \\sin(\\theta_{ij}) - B_{ij} \\cos(\\theta_{ij}) \\right) + (B_{ij} - b_{s,ij}) V^2_i\n",
    "    \\end{aligned}\n",
    "$$"
   ]
  },
  {
   "cell_type": "code",
   "execution_count": null,
   "metadata": {},
   "outputs": [],
   "source": [
    "function StateEstimation(Buses, GL, BL, Vi_M, Pi_M, Qi_M, PL_M, QL_M)\n",
    "    \"\"\"This function creates and solves a JuMP model, i.e., performes state estimation for a power system\n",
    "        Measurements (Vi_M, Pi_M, etc.) must be presented as DataFrame and must containt \n",
    "            index columns (1 or 2, depends if it is for line or bus)\n",
    "            measurements columns: \"Value\" -- measurements value\n",
    "                                  \"Weight\" -- 1/σ of this measurement\n",
    "            \n",
    "        Arguments:\n",
    "            Buses (UnitRange{Int64}): set of indices for buses\n",
    "            GL    (Matrix{Float64}) : real part of admittance matrix of the grid\n",
    "            BL    (Matrix{Float64}) : real part of admittance matrix of the grid\n",
    "            Vi_M  (DataFrame)       : DataFrame that containts measuremets and its inverse stds for Voltage\n",
    "            Pi_M  (DataFrame)       : DataFrame that containts measuremets and its inverse stds for Active Power\n",
    "            Qi_M  (DataFrame)       : DataFrame that containts measuremets and its inverse stds for Reactive Power\n",
    "            PL_M  (DataFrame)       : DataFrame that containts measuremets and its inverse stds for Active Power Line Flow\n",
    "            QL_M  (DataFrame)       : DataFrame that containts measuremets and its inverse stds for Reactive Power Line Flow\n",
    "    \n",
    "        Returns:\n",
    "            StateEst (JuMP.Model)   : optimized model of state estimation minimization problem\n",
    "    \"\"\"\n",
    "    # Creating JuMP model\n",
    "    \n",
    "    # Define model variables\n",
    "   \n",
    "    # Define constraints\n",
    "    \n",
    "    # Define objective function\n",
    "    \n",
    "    # Solve the optimization and keep track of progress\n",
    "    \n",
    "    \n",
    "    return \n",
    "end"
   ]
  },
  {
   "cell_type": "code",
   "execution_count": null,
   "metadata": {},
   "outputs": [],
   "source": [
    "# Get the result"
   ]
  },
  {
   "cell_type": "markdown",
   "metadata": {},
   "source": [
    "# Visualising iterations"
   ]
  },
  {
   "cell_type": "code",
   "execution_count": null,
   "metadata": {},
   "outputs": [],
   "source": [
    "\n",
    "Objectives, _, ContstraintViolations, _, _ = get_iterations(\"out/out.txt\")\n"
   ]
  },
  {
   "cell_type": "code",
   "execution_count": null,
   "metadata": {},
   "outputs": [],
   "source": []
  },
  {
   "cell_type": "markdown",
   "metadata": {},
   "source": [
    "# $\\chi^2$ test"
   ]
  },
  {
   "cell_type": "code",
   "execution_count": null,
   "metadata": {},
   "outputs": [],
   "source": [
    "parseRes(X) = round.(collect(JuMP.value.(res[Symbol(X)])), digits=3)"
   ]
  },
  {
   "cell_type": "code",
   "execution_count": null,
   "metadata": {},
   "outputs": [],
   "source": [
    "# number of measurement\n",
    "n = size(Measurements)[1] - (2 * length(Buses) - 1)\n",
    "# define χ^2\n",
    "d = Chisq(n)\n",
    "# define several significance levels\n",
    "sign_lvls = [0.1, 0.05, 0.01]\n",
    "cdf_sign = [quantile(d, 1-sl) for sl in sign_lvls]\n",
    "#plot cdf\n",
    "xs = collect(0:0.001:25)\n",
    "cdfs = [cdf(d, x) for x in xs]\n",
    "plot(xs, cdfs, label=\"CDF\")\n",
    "for i in 1:length(cdf_sign)\n",
    "    vline!([cdf_sign[i]], linewidth=2, linestyle=:dashdot, label=string(sign_lvls[i]) * \" significance <=> \" * string(1-sign_lvls[i]) * \"confidence\")\n",
    "end\n",
    "vline!([parseRes(\"J\")], linewidth=2, linestyle=:dash, label=\"Our objective value\")\n",
    "plot!(xlabel=\"x\")\n",
    "plot!(ylabel=L\"F_{\\chi^2(n)}(x)\")\n",
    "plot!(legend=:bottomright)"
   ]
  },
  {
   "cell_type": "markdown",
   "metadata": {},
   "source": [
    "# Takeaways\n",
    "> 1. We know have an example of JuMP usage. **You can use that in the next homework**\n",
    "> 2. We have a visualisation of optimization process\n",
    "> 3. We have a visualisation of $\\chi^2$ test\n",
    "> 4. **Open this link and rate this class please!**\n",
    "https://www.menti.com/poxia4npow"
   ]
  }
 ],
 "metadata": {
  "kernelspec": {
   "display_name": "Julia 1.6.3",
   "language": "julia",
   "name": "julia-1.6"
  },
  "language_info": {
   "file_extension": ".jl",
   "mimetype": "application/julia",
   "name": "julia",
   "version": "1.6.3"
  }
 },
 "nbformat": 4,
 "nbformat_minor": 4
}
